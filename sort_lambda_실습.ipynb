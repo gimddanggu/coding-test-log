{
 "cells": [
  {
   "cell_type": "markdown",
   "id": "44bd62f8",
   "metadata": {},
   "source": [
    "# Sort lambda 실습"
   ]
  },
  {
   "cell_type": "markdown",
   "id": "dab2455b",
   "metadata": {
    "vscode": {
     "languageId": "plaintext"
    }
   },
   "source": [
    "## sort\n",
    "- sort()\n",
    "- sorted() "
   ]
  },
  {
   "cell_type": "code",
   "execution_count": null,
   "id": "164f7acf",
   "metadata": {},
   "outputs": [],
   "source": [
    "int_arr = [1, 5, 6, 2, 4, 7, 2]\n",
    "str_arr = [\"banana\", \"apple\", \"orange\", \"abocado\", \"lemon\"]\n",
    "int_tuple = (9, 3, 2, 5, 7, 6, 8)\n",
    "# person_dict = {\n",
    "#     \"name\": [\"이혜원\",\"김다현\", \"김다희\"],\n",
    "#     \"age\": [25, 25, 18]\n",
    "# }"
   ]
  },
  {
   "cell_type": "code",
   "execution_count": 16,
   "id": "44e0f6f0",
   "metadata": {},
   "outputs": [
    {
     "name": "stdout",
     "output_type": "stream",
     "text": [
      "[1, 2, 2, 4, 5, 6, 7]\n",
      "None\n"
     ]
    }
   ],
   "source": [
    "print(sorted(int_arr))      # 출력: [1, 2, 2, 4, 5, 6, 7]\n",
    "print(int_arr.sort())       # 출력: None"
   ]
  },
  {
   "cell_type": "code",
   "execution_count": 24,
   "id": "ba0b5b74",
   "metadata": {},
   "outputs": [
    {
     "name": "stdout",
     "output_type": "stream",
     "text": [
      "[1, 2, 2, 4, 5, 6, 7]\n"
     ]
    }
   ],
   "source": [
    "print(int_arr)"
   ]
  },
  {
   "cell_type": "code",
   "execution_count": 21,
   "id": "3e2255bb",
   "metadata": {},
   "outputs": [
    {
     "name": "stdout",
     "output_type": "stream",
     "text": [
      "[2, 3, 5, 6, 7, 8, 9]\n"
     ]
    }
   ],
   "source": [
    "print(sorted(int_tuple))\n",
    "# print(int_tuple.sort())   # sort() 는 파이썬 리스트의 내장함수이다.\n"
   ]
  },
  {
   "cell_type": "code",
   "execution_count": 25,
   "id": "5b36cb9c",
   "metadata": {},
   "outputs": [
    {
     "name": "stdout",
     "output_type": "stream",
     "text": [
      "[9, 8, 7, 6, 5, 3, 2]\n",
      "[7, 6, 5, 4, 2, 2, 1]\n"
     ]
    }
   ],
   "source": [
    "print(sorted(int_tuple, reverse=True))\n",
    "int_arr.sort(reverse=True)\n",
    "print(int_arr)"
   ]
  },
  {
   "cell_type": "markdown",
   "id": "75e2efdf",
   "metadata": {},
   "source": [
    "- `sort()` 는 파이썬 리스트의 내장함수이고 원본 리스트를 변경 시켜준다는 것을 확인하였다.\n",
    "- `sorted()` 는 이터러블한 객체를 인자롤 받아 리스트로 반환해준다는 것을 확인했다. \n",
    "- 기본적으로 오름차순 정렬되고, `reverse=True` 인자를 주어 내림차순 정렬할 수 있다는 것을 확인했다. "
   ]
  },
  {
   "cell_type": "markdown",
   "id": "d1d616a6",
   "metadata": {},
   "source": [
    "### 2차원 리스트 정렬"
   ]
  },
  {
   "cell_type": "code",
   "execution_count": 37,
   "id": "14e57007",
   "metadata": {},
   "outputs": [],
   "source": [
    "int_arr_2d = [\n",
    "    [8, 5, 2, 1],\n",
    "    [1, 3, 9, 8],\n",
    "    [1, 3, 2, 2]\n",
    "]"
   ]
  },
  {
   "cell_type": "code",
   "execution_count": 38,
   "id": "e8a68633",
   "metadata": {},
   "outputs": [
    {
     "data": {
      "text/plain": [
       "[[1, 3, 2, 2], [1, 3, 9, 8], [8, 5, 2, 1]]"
      ]
     },
     "execution_count": 38,
     "metadata": {},
     "output_type": "execute_result"
    }
   ],
   "source": [
    "sorted(int_arr_2d)"
   ]
  },
  {
   "cell_type": "markdown",
   "id": "895f50f8",
   "metadata": {},
   "source": [
    "- 2차원 리스트의 기본 정렬은 각 행의 첫번째 수 부터 차례로 비교하며 행의 위치를 바꾸는 것을 확인할 수 있다.\n",
    "- 그러면 행의 위치를 바꾸지 않고 각 행의 값을 정렬 시키려면? => `key=`인자를 사용해야 한다."
   ]
  },
  {
   "cell_type": "code",
   "execution_count": 40,
   "id": "97f30ad0",
   "metadata": {},
   "outputs": [
    {
     "data": {
      "text/plain": [
       "[[1, 3, 9, 8], [1, 3, 2, 2], [8, 5, 2, 1]]"
      ]
     },
     "execution_count": 40,
     "metadata": {},
     "output_type": "execute_result"
    }
   ],
   "source": [
    "sorted(int_arr_2d, key=lambda x: x[0])"
   ]
  },
  {
   "cell_type": "markdown",
   "id": "3a554765",
   "metadata": {},
   "source": []
  },
  {
   "cell_type": "markdown",
   "id": "2c3b0cd8",
   "metadata": {},
   "source": []
  },
  {
   "cell_type": "code",
   "execution_count": null,
   "id": "d8a9c411",
   "metadata": {},
   "outputs": [
    {
     "data": {
      "text/plain": [
       "[[1, 3, 9, 2], [2, 9, 9, 8], [5, 7, 2, 1]]"
      ]
     },
     "execution_count": 30,
     "metadata": {},
     "output_type": "execute_result"
    }
   ],
   "source": []
  },
  {
   "cell_type": "code",
   "execution_count": null,
   "id": "9bbff622",
   "metadata": {},
   "outputs": [],
   "source": []
  }
 ],
 "metadata": {
  "kernelspec": {
   "display_name": "Python 3",
   "language": "python",
   "name": "python3"
  },
  "language_info": {
   "codemirror_mode": {
    "name": "ipython",
    "version": 3
   },
   "file_extension": ".py",
   "mimetype": "text/x-python",
   "name": "python",
   "nbconvert_exporter": "python",
   "pygments_lexer": "ipython3",
   "version": "3.11.9"
  }
 },
 "nbformat": 4,
 "nbformat_minor": 5
}
